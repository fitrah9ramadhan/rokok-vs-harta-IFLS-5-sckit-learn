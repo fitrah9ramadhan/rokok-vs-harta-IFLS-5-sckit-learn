{
 "cells": [
  {
   "cell_type": "code",
   "execution_count": 232,
   "metadata": {},
   "outputs": [],
   "source": [
    "import pandas as pd  \n",
    "import numpy as np  \n",
    "import matplotlib.pyplot as plt  \n",
    "import seaborn as seabornInstance \n",
    "from sklearn.model_selection import train_test_split \n",
    "from sklearn.linear_model import LinearRegression\n",
    "from sklearn import metrics\n",
    "%matplotlib inline\n",
    "\n",
    "plt.style.use('ggplot')"
   ]
  },
  {
   "cell_type": "code",
   "execution_count": 233,
   "metadata": {},
   "outputs": [],
   "source": [
    "#Pengeluaran Rokok dalam seminggu\n",
    "\n",
    "df = pd.read_stata(\"/IFLS/IFLS 5/ALL DTA/b3b_km.dta\")\n",
    "df = df[[\"hhid14_9\",\"km09x\", \"km09\" ]]"
   ]
  },
  {
   "cell_type": "code",
   "execution_count": 234,
   "metadata": {},
   "outputs": [],
   "source": [
    "df = df[df[\"km09x\"] == \"1:Given\"]\n",
    "df.drop(\"km09x\", axis = 1, inplace = True)\n",
    "df.set_index(\"hhid14_9\", inplace = True)"
   ]
  },
  {
   "cell_type": "code",
   "execution_count": 235,
   "metadata": {},
   "outputs": [
    {
     "data": {
      "text/html": [
       "<div>\n",
       "<style scoped>\n",
       "    .dataframe tbody tr th:only-of-type {\n",
       "        vertical-align: middle;\n",
       "    }\n",
       "\n",
       "    .dataframe tbody tr th {\n",
       "        vertical-align: top;\n",
       "    }\n",
       "\n",
       "    .dataframe thead th {\n",
       "        text-align: right;\n",
       "    }\n",
       "</style>\n",
       "<table border=\"1\" class=\"dataframe\">\n",
       "  <thead>\n",
       "    <tr style=\"text-align: right;\">\n",
       "      <th></th>\n",
       "      <th>km09</th>\n",
       "    </tr>\n",
       "  </thead>\n",
       "  <tbody>\n",
       "    <tr>\n",
       "      <th>count</th>\n",
       "      <td>12344.000000</td>\n",
       "    </tr>\n",
       "    <tr>\n",
       "      <th>mean</th>\n",
       "      <td>68177.982502</td>\n",
       "    </tr>\n",
       "    <tr>\n",
       "      <th>std</th>\n",
       "      <td>60122.784938</td>\n",
       "    </tr>\n",
       "    <tr>\n",
       "      <th>min</th>\n",
       "      <td>0.000000</td>\n",
       "    </tr>\n",
       "    <tr>\n",
       "      <th>25%</th>\n",
       "      <td>28000.000000</td>\n",
       "    </tr>\n",
       "    <tr>\n",
       "      <th>50%</th>\n",
       "      <td>56000.000000</td>\n",
       "    </tr>\n",
       "    <tr>\n",
       "      <th>75%</th>\n",
       "      <td>91000.000000</td>\n",
       "    </tr>\n",
       "    <tr>\n",
       "      <th>max</th>\n",
       "      <td>999999.000000</td>\n",
       "    </tr>\n",
       "  </tbody>\n",
       "</table>\n",
       "</div>"
      ],
      "text/plain": [
       "                km09\n",
       "count   12344.000000\n",
       "mean    68177.982502\n",
       "std     60122.784938\n",
       "min         0.000000\n",
       "25%     28000.000000\n",
       "50%     56000.000000\n",
       "75%     91000.000000\n",
       "max    999999.000000"
      ]
     },
     "execution_count": 235,
     "metadata": {},
     "output_type": "execute_result"
    }
   ],
   "source": [
    "df.describe()"
   ]
  },
  {
   "cell_type": "code",
   "execution_count": 236,
   "metadata": {},
   "outputs": [
    {
     "data": {
      "text/html": [
       "<div>\n",
       "<style scoped>\n",
       "    .dataframe tbody tr th:only-of-type {\n",
       "        vertical-align: middle;\n",
       "    }\n",
       "\n",
       "    .dataframe tbody tr th {\n",
       "        vertical-align: top;\n",
       "    }\n",
       "\n",
       "    .dataframe thead th {\n",
       "        text-align: right;\n",
       "    }\n",
       "</style>\n",
       "<table border=\"1\" class=\"dataframe\">\n",
       "  <thead>\n",
       "    <tr style=\"text-align: right;\">\n",
       "      <th></th>\n",
       "      <th>km09</th>\n",
       "    </tr>\n",
       "    <tr>\n",
       "      <th>hhid14_9</th>\n",
       "      <th></th>\n",
       "    </tr>\n",
       "  </thead>\n",
       "  <tbody>\n",
       "    <tr>\n",
       "      <th>001060000</th>\n",
       "      <td>35000.0</td>\n",
       "    </tr>\n",
       "    <tr>\n",
       "      <th>001080003</th>\n",
       "      <td>42000.0</td>\n",
       "    </tr>\n",
       "    <tr>\n",
       "      <th>001220000</th>\n",
       "      <td>64000.0</td>\n",
       "    </tr>\n",
       "    <tr>\n",
       "      <th>001220000</th>\n",
       "      <td>42000.0</td>\n",
       "    </tr>\n",
       "    <tr>\n",
       "      <th>001224100</th>\n",
       "      <td>105000.0</td>\n",
       "    </tr>\n",
       "    <tr>\n",
       "      <th>...</th>\n",
       "      <td>...</td>\n",
       "    </tr>\n",
       "    <tr>\n",
       "      <th>321291100</th>\n",
       "      <td>0.0</td>\n",
       "    </tr>\n",
       "    <tr>\n",
       "      <th>321291100</th>\n",
       "      <td>112000.0</td>\n",
       "    </tr>\n",
       "    <tr>\n",
       "      <th>321290000</th>\n",
       "      <td>112000.0</td>\n",
       "    </tr>\n",
       "    <tr>\n",
       "      <th>321290000</th>\n",
       "      <td>118000.0</td>\n",
       "    </tr>\n",
       "    <tr>\n",
       "      <th>321291100</th>\n",
       "      <td>68000.0</td>\n",
       "    </tr>\n",
       "  </tbody>\n",
       "</table>\n",
       "<p>12344 rows × 1 columns</p>\n",
       "</div>"
      ],
      "text/plain": [
       "               km09\n",
       "hhid14_9           \n",
       "001060000   35000.0\n",
       "001080003   42000.0\n",
       "001220000   64000.0\n",
       "001220000   42000.0\n",
       "001224100  105000.0\n",
       "...             ...\n",
       "321291100       0.0\n",
       "321291100  112000.0\n",
       "321290000  112000.0\n",
       "321290000  118000.0\n",
       "321291100   68000.0\n",
       "\n",
       "[12344 rows x 1 columns]"
      ]
     },
     "execution_count": 236,
     "metadata": {},
     "output_type": "execute_result"
    }
   ],
   "source": [
    "df"
   ]
  },
  {
   "cell_type": "code",
   "execution_count": 237,
   "metadata": {},
   "outputs": [
    {
     "data": {
      "text/plain": [
       "Index(['hhid14_9', 'hrtype', 'hr01', 'hr05x', 'hr06', 'hr07', 'hr08', 'hr10',\n",
       "       'hr11', 'hr12x', 'hr12a', 'hr12b', 'hhid14', 'hr05', 'hr02x_f',\n",
       "       'hr02x_d1', 'hr02x_g', 'hr02x_h', 'hr02x_k2', 'hr02x_a', 'hr02x_c',\n",
       "       'hr02x_k1', 'hr02x_d3', 'hr02x_b', 'hr02x_e', 'hr02x_d2', 'hr02x_j',\n",
       "       'hr02_f', 'hr02_d1', 'hr02_g', 'hr02_h', 'hr02_k2', 'hr02_a', 'hr02_c',\n",
       "       'hr02_k1', 'hr02_d3', 'hr02_b', 'hr02_e', 'hr02_d2', 'hr02_j',\n",
       "       'hr02p_f', 'hr02p_d1', 'hr02p_g', 'hr02p_h', 'hr02p_k2', 'hr02p_a',\n",
       "       'hr02p_c', 'hr02p_k1', 'hr02p_d3', 'hr02p_b', 'hr02p_e', 'hr02p_d2',\n",
       "       'hr02p_j', 'version', 'module'],\n",
       "      dtype='object')"
      ]
     },
     "execution_count": 237,
     "metadata": {},
     "output_type": "execute_result"
    }
   ],
   "source": [
    "# Harta rumah tangga\n",
    "\n",
    "df2 = pd.read_stata(\"/IFLS/IFLS 5/ALL DTA/b2_hr1.dta\")\n",
    "df2.columns"
   ]
  },
  {
   "cell_type": "code",
   "execution_count": 238,
   "metadata": {},
   "outputs": [
    {
     "data": {
      "text/html": [
       "<div>\n",
       "<style scoped>\n",
       "    .dataframe tbody tr th:only-of-type {\n",
       "        vertical-align: middle;\n",
       "    }\n",
       "\n",
       "    .dataframe tbody tr th {\n",
       "        vertical-align: top;\n",
       "    }\n",
       "\n",
       "    .dataframe thead th {\n",
       "        text-align: right;\n",
       "    }\n",
       "</style>\n",
       "<table border=\"1\" class=\"dataframe\">\n",
       "  <thead>\n",
       "    <tr style=\"text-align: right;\">\n",
       "      <th></th>\n",
       "      <th>hr02_a</th>\n",
       "    </tr>\n",
       "    <tr>\n",
       "      <th>hhid14_9</th>\n",
       "      <th></th>\n",
       "    </tr>\n",
       "  </thead>\n",
       "  <tbody>\n",
       "    <tr>\n",
       "      <th>001060000</th>\n",
       "      <td>50000000.0</td>\n",
       "    </tr>\n",
       "    <tr>\n",
       "      <th>001080003</th>\n",
       "      <td>5000000.0</td>\n",
       "    </tr>\n",
       "    <tr>\n",
       "      <th>001220000</th>\n",
       "      <td>75000000.0</td>\n",
       "    </tr>\n",
       "    <tr>\n",
       "      <th>001224100</th>\n",
       "      <td>40000000.0</td>\n",
       "    </tr>\n",
       "    <tr>\n",
       "      <th>001240000</th>\n",
       "      <td>50000000.0</td>\n",
       "    </tr>\n",
       "    <tr>\n",
       "      <th>...</th>\n",
       "      <td>...</td>\n",
       "    </tr>\n",
       "    <tr>\n",
       "      <th>321270004</th>\n",
       "      <td>200000000.0</td>\n",
       "    </tr>\n",
       "    <tr>\n",
       "      <th>321280000</th>\n",
       "      <td>300000000.0</td>\n",
       "    </tr>\n",
       "    <tr>\n",
       "      <th>321290000</th>\n",
       "      <td>999999995.0</td>\n",
       "    </tr>\n",
       "    <tr>\n",
       "      <th>321291100</th>\n",
       "      <td>300000000.0</td>\n",
       "    </tr>\n",
       "    <tr>\n",
       "      <th>321300000</th>\n",
       "      <td>100000000.0</td>\n",
       "    </tr>\n",
       "  </tbody>\n",
       "</table>\n",
       "<p>9812 rows × 1 columns</p>\n",
       "</div>"
      ],
      "text/plain": [
       "                hr02_a\n",
       "hhid14_9              \n",
       "001060000   50000000.0\n",
       "001080003    5000000.0\n",
       "001220000   75000000.0\n",
       "001224100   40000000.0\n",
       "001240000   50000000.0\n",
       "...                ...\n",
       "321270004  200000000.0\n",
       "321280000  300000000.0\n",
       "321290000  999999995.0\n",
       "321291100  300000000.0\n",
       "321300000  100000000.0\n",
       "\n",
       "[9812 rows x 1 columns]"
      ]
     },
     "execution_count": 238,
     "metadata": {},
     "output_type": "execute_result"
    }
   ],
   "source": [
    "df2 = df2[[\"hhid14_9\", \"hr02_a\"]]\n",
    "df2.dropna(inplace = True)\n",
    "df2.set_index(\"hhid14_9\", inplace = True)\n",
    "\n",
    "df2"
   ]
  },
  {
   "cell_type": "code",
   "execution_count": 239,
   "metadata": {},
   "outputs": [
    {
     "name": "stderr",
     "output_type": "stream",
     "text": [
      "C:\\Users\\HP\\anaconda3\\lib\\site-packages\\pandas\\core\\series.py:679: RuntimeWarning: divide by zero encountered in log\n",
      "  result = getattr(ufunc, method)(*inputs, **kwargs)\n"
     ]
    }
   ],
   "source": [
    "#Merge data df1 dan df2\n",
    "\n",
    "df_merge = df.merge(df2, on = \"hhid14_9\")\n",
    "\n",
    "df_merge[\"logRokok\"] = np.log(df_merge[\"km09\"])\n",
    "df_merge[\"logHarta\"] = np.log(df_merge[\"hr02_a\"])"
   ]
  },
  {
   "cell_type": "code",
   "execution_count": 240,
   "metadata": {},
   "outputs": [
    {
     "data": {
      "text/html": [
       "<div>\n",
       "<style scoped>\n",
       "    .dataframe tbody tr th:only-of-type {\n",
       "        vertical-align: middle;\n",
       "    }\n",
       "\n",
       "    .dataframe tbody tr th {\n",
       "        vertical-align: top;\n",
       "    }\n",
       "\n",
       "    .dataframe thead th {\n",
       "        text-align: right;\n",
       "    }\n",
       "</style>\n",
       "<table border=\"1\" class=\"dataframe\">\n",
       "  <thead>\n",
       "    <tr style=\"text-align: right;\">\n",
       "      <th></th>\n",
       "      <th>km09</th>\n",
       "      <th>hr02_a</th>\n",
       "      <th>logRokok</th>\n",
       "      <th>logHarta</th>\n",
       "    </tr>\n",
       "    <tr>\n",
       "      <th>hhid14_9</th>\n",
       "      <th></th>\n",
       "      <th></th>\n",
       "      <th></th>\n",
       "      <th></th>\n",
       "    </tr>\n",
       "  </thead>\n",
       "  <tbody>\n",
       "    <tr>\n",
       "      <th>001060000</th>\n",
       "      <td>35000.0</td>\n",
       "      <td>50000000.0</td>\n",
       "      <td>10.463103</td>\n",
       "      <td>17.727534</td>\n",
       "    </tr>\n",
       "    <tr>\n",
       "      <th>001080003</th>\n",
       "      <td>42000.0</td>\n",
       "      <td>5000000.0</td>\n",
       "      <td>10.645425</td>\n",
       "      <td>15.424948</td>\n",
       "    </tr>\n",
       "    <tr>\n",
       "      <th>001220000</th>\n",
       "      <td>64000.0</td>\n",
       "      <td>75000000.0</td>\n",
       "      <td>11.066638</td>\n",
       "      <td>18.132999</td>\n",
       "    </tr>\n",
       "    <tr>\n",
       "      <th>001220000</th>\n",
       "      <td>42000.0</td>\n",
       "      <td>75000000.0</td>\n",
       "      <td>10.645425</td>\n",
       "      <td>18.132999</td>\n",
       "    </tr>\n",
       "    <tr>\n",
       "      <th>001220000</th>\n",
       "      <td>45000.0</td>\n",
       "      <td>75000000.0</td>\n",
       "      <td>10.714418</td>\n",
       "      <td>18.132999</td>\n",
       "    </tr>\n",
       "    <tr>\n",
       "      <th>...</th>\n",
       "      <td>...</td>\n",
       "      <td>...</td>\n",
       "      <td>...</td>\n",
       "      <td>...</td>\n",
       "    </tr>\n",
       "    <tr>\n",
       "      <th>321291100</th>\n",
       "      <td>0.0</td>\n",
       "      <td>300000000.0</td>\n",
       "      <td>-inf</td>\n",
       "      <td>19.519293</td>\n",
       "    </tr>\n",
       "    <tr>\n",
       "      <th>321291100</th>\n",
       "      <td>112000.0</td>\n",
       "      <td>300000000.0</td>\n",
       "      <td>11.626254</td>\n",
       "      <td>19.519293</td>\n",
       "    </tr>\n",
       "    <tr>\n",
       "      <th>321291100</th>\n",
       "      <td>68000.0</td>\n",
       "      <td>300000000.0</td>\n",
       "      <td>11.127263</td>\n",
       "      <td>19.519293</td>\n",
       "    </tr>\n",
       "    <tr>\n",
       "      <th>321290000</th>\n",
       "      <td>112000.0</td>\n",
       "      <td>999999995.0</td>\n",
       "      <td>11.626254</td>\n",
       "      <td>20.723266</td>\n",
       "    </tr>\n",
       "    <tr>\n",
       "      <th>321290000</th>\n",
       "      <td>118000.0</td>\n",
       "      <td>999999995.0</td>\n",
       "      <td>11.678440</td>\n",
       "      <td>20.723266</td>\n",
       "    </tr>\n",
       "  </tbody>\n",
       "</table>\n",
       "<p>8665 rows × 4 columns</p>\n",
       "</div>"
      ],
      "text/plain": [
       "               km09       hr02_a   logRokok   logHarta\n",
       "hhid14_9                                              \n",
       "001060000   35000.0   50000000.0  10.463103  17.727534\n",
       "001080003   42000.0    5000000.0  10.645425  15.424948\n",
       "001220000   64000.0   75000000.0  11.066638  18.132999\n",
       "001220000   42000.0   75000000.0  10.645425  18.132999\n",
       "001220000   45000.0   75000000.0  10.714418  18.132999\n",
       "...             ...          ...        ...        ...\n",
       "321291100       0.0  300000000.0       -inf  19.519293\n",
       "321291100  112000.0  300000000.0  11.626254  19.519293\n",
       "321291100   68000.0  300000000.0  11.127263  19.519293\n",
       "321290000  112000.0  999999995.0  11.626254  20.723266\n",
       "321290000  118000.0  999999995.0  11.678440  20.723266\n",
       "\n",
       "[8665 rows x 4 columns]"
      ]
     },
     "execution_count": 240,
     "metadata": {},
     "output_type": "execute_result"
    }
   ],
   "source": [
    "df_merge"
   ]
  },
  {
   "cell_type": "code",
   "execution_count": 241,
   "metadata": {},
   "outputs": [
    {
     "data": {
      "text/html": [
       "<div>\n",
       "<style scoped>\n",
       "    .dataframe tbody tr th:only-of-type {\n",
       "        vertical-align: middle;\n",
       "    }\n",
       "\n",
       "    .dataframe tbody tr th {\n",
       "        vertical-align: top;\n",
       "    }\n",
       "\n",
       "    .dataframe thead th {\n",
       "        text-align: right;\n",
       "    }\n",
       "</style>\n",
       "<table border=\"1\" class=\"dataframe\">\n",
       "  <thead>\n",
       "    <tr style=\"text-align: right;\">\n",
       "      <th></th>\n",
       "      <th>km09</th>\n",
       "      <th>hr02_a</th>\n",
       "      <th>logRokok</th>\n",
       "      <th>logHarta</th>\n",
       "    </tr>\n",
       "    <tr>\n",
       "      <th>hhid14_9</th>\n",
       "      <th></th>\n",
       "      <th></th>\n",
       "      <th></th>\n",
       "      <th></th>\n",
       "    </tr>\n",
       "  </thead>\n",
       "  <tbody>\n",
       "    <tr>\n",
       "      <th>001060000</th>\n",
       "      <td>35000.0</td>\n",
       "      <td>50000000.0</td>\n",
       "      <td>10.463103</td>\n",
       "      <td>17.727534</td>\n",
       "    </tr>\n",
       "    <tr>\n",
       "      <th>001080003</th>\n",
       "      <td>42000.0</td>\n",
       "      <td>5000000.0</td>\n",
       "      <td>10.645425</td>\n",
       "      <td>15.424948</td>\n",
       "    </tr>\n",
       "    <tr>\n",
       "      <th>001220000</th>\n",
       "      <td>64000.0</td>\n",
       "      <td>75000000.0</td>\n",
       "      <td>11.066638</td>\n",
       "      <td>18.132999</td>\n",
       "    </tr>\n",
       "    <tr>\n",
       "      <th>001220000</th>\n",
       "      <td>42000.0</td>\n",
       "      <td>75000000.0</td>\n",
       "      <td>10.645425</td>\n",
       "      <td>18.132999</td>\n",
       "    </tr>\n",
       "    <tr>\n",
       "      <th>001220000</th>\n",
       "      <td>45000.0</td>\n",
       "      <td>75000000.0</td>\n",
       "      <td>10.714418</td>\n",
       "      <td>18.132999</td>\n",
       "    </tr>\n",
       "    <tr>\n",
       "      <th>...</th>\n",
       "      <td>...</td>\n",
       "      <td>...</td>\n",
       "      <td>...</td>\n",
       "      <td>...</td>\n",
       "    </tr>\n",
       "    <tr>\n",
       "      <th>321260000</th>\n",
       "      <td>250000.0</td>\n",
       "      <td>500000000.0</td>\n",
       "      <td>12.429216</td>\n",
       "      <td>20.030119</td>\n",
       "    </tr>\n",
       "    <tr>\n",
       "      <th>321270004</th>\n",
       "      <td>24000.0</td>\n",
       "      <td>200000000.0</td>\n",
       "      <td>10.085809</td>\n",
       "      <td>19.113828</td>\n",
       "    </tr>\n",
       "    <tr>\n",
       "      <th>321274100</th>\n",
       "      <td>54000.0</td>\n",
       "      <td>300000000.0</td>\n",
       "      <td>10.896739</td>\n",
       "      <td>19.519293</td>\n",
       "    </tr>\n",
       "    <tr>\n",
       "      <th>321291100</th>\n",
       "      <td>112000.0</td>\n",
       "      <td>300000000.0</td>\n",
       "      <td>11.626254</td>\n",
       "      <td>19.519293</td>\n",
       "    </tr>\n",
       "    <tr>\n",
       "      <th>321291100</th>\n",
       "      <td>68000.0</td>\n",
       "      <td>300000000.0</td>\n",
       "      <td>11.127263</td>\n",
       "      <td>19.519293</td>\n",
       "    </tr>\n",
       "  </tbody>\n",
       "</table>\n",
       "<p>8429 rows × 4 columns</p>\n",
       "</div>"
      ],
      "text/plain": [
       "               km09       hr02_a   logRokok   logHarta\n",
       "hhid14_9                                              \n",
       "001060000   35000.0   50000000.0  10.463103  17.727534\n",
       "001080003   42000.0    5000000.0  10.645425  15.424948\n",
       "001220000   64000.0   75000000.0  11.066638  18.132999\n",
       "001220000   42000.0   75000000.0  10.645425  18.132999\n",
       "001220000   45000.0   75000000.0  10.714418  18.132999\n",
       "...             ...          ...        ...        ...\n",
       "321260000  250000.0  500000000.0  12.429216  20.030119\n",
       "321270004   24000.0  200000000.0  10.085809  19.113828\n",
       "321274100   54000.0  300000000.0  10.896739  19.519293\n",
       "321291100  112000.0  300000000.0  11.626254  19.519293\n",
       "321291100   68000.0  300000000.0  11.127263  19.519293\n",
       "\n",
       "[8429 rows x 4 columns]"
      ]
     },
     "execution_count": 241,
     "metadata": {},
     "output_type": "execute_result"
    }
   ],
   "source": [
    "df_merge.replace(0.0, np.nan, inplace = True)\n",
    "df_merge.replace(999999995.0, np.nan, inplace = True)\n",
    "\n",
    "df_merge.dropna(inplace = True)\n",
    "\n",
    "df_merge"
   ]
  },
  {
   "cell_type": "code",
   "execution_count": 242,
   "metadata": {},
   "outputs": [
    {
     "data": {
      "text/plain": [
       "Text(0, 0.5, 'log(harta)')"
      ]
     },
     "execution_count": 242,
     "metadata": {},
     "output_type": "execute_result"
    },
    {
     "data": {
      "image/png": "[encoded data removed]",
      "text/plain": [
       "<Figure size 432x288 with 1 Axes>"
      ]
     },
     "metadata": {},
     "output_type": "display_data"
    }
   ],
   "source": [
    "plt.scatter(df_merge[\"logRokok\"],df_merge[\"logHarta\"])\n",
    "\n",
    "plt.xlabel(\"log(Rokok)\")\n",
    "plt.ylabel(\"log(harta)\")"
   ]
  },
  {
   "cell_type": "code",
   "execution_count": 243,
   "metadata": {},
   "outputs": [
    {
     "data": {
      "text/plain": [
       "(8429, 4)"
      ]
     },
     "execution_count": 243,
     "metadata": {},
     "output_type": "execute_result"
    }
   ],
   "source": [
    "df_merge.shape"
   ]
  },
  {
   "cell_type": "code",
   "execution_count": 253,
   "metadata": {},
   "outputs": [
    {
     "data": {
      "text/plain": [
       "Text(0, 0.5, 'log(harta)')"
      ]
     },
     "execution_count": 253,
     "metadata": {},
     "output_type": "execute_result"
    },
    {
     "data": {
      "image/png": "[encoded data removed]",
      "text/plain": [
       "<Figure size 432x288 with 1 Axes>"
      ]
     },
     "metadata": {},
     "output_type": "display_data"
    }
   ],
   "source": [
    "plt.scatter(df_merge['logRokok'], df_merge['logHarta'])  \n",
    "plt.title('Rokok vs Harta')  \n",
    "plt.xlabel('log(rokok)')  \n",
    "plt.ylabel('log(harta)')  "
   ]
  },
  {
   "cell_type": "code",
   "execution_count": 254,
   "metadata": {},
   "outputs": [
    {
     "data": {
      "text/plain": [
       "<matplotlib.axes._subplots.AxesSubplot at 0x98fd85f08>"
      ]
     },
     "execution_count": 254,
     "metadata": {},
     "output_type": "execute_result"
    },
    {
     "data": {
      "image/png": "[encoded data removed]",
      "text/plain": [
       "<Figure size 1080x720 with 1 Axes>"
      ]
     },
     "metadata": {},
     "output_type": "display_data"
    }
   ],
   "source": [
    "plt.figure(figsize=(15,10))\n",
    "plt.tight_layout()\n",
    "seabornInstance.distplot(df_merge['logHarta'])"
   ]
  },
  {
   "cell_type": "code",
   "execution_count": 255,
   "metadata": {},
   "outputs": [
    {
     "data": {
      "text/plain": [
       "<matplotlib.axes._subplots.AxesSubplot at 0x98fb6a248>"
      ]
     },
     "execution_count": 255,
     "metadata": {},
     "output_type": "execute_result"
    },
    {
     "data": {
      "image/png": "[encoded data removed]",
      "text/plain": [
       "<Figure size 1080x720 with 1 Axes>"
      ]
     },
     "metadata": {},
     "output_type": "display_data"
    }
   ],
   "source": [
    "plt.figure(figsize=(15,10))\n",
    "plt.tight_layout()\n",
    "seabornInstance.distplot(df_merge['logRokok'])"
   ]
  },
  {
   "cell_type": "code",
   "execution_count": 256,
   "metadata": {},
   "outputs": [],
   "source": [
    "X = df_merge['logHarta'].values.reshape(-1,1)\n",
    "y = df_merge['logRokok'].values.reshape(-1,1)"
   ]
  },
  {
   "cell_type": "code",
   "execution_count": 257,
   "metadata": {},
   "outputs": [],
   "source": [
    "X_train, X_test, y_train, y_test = train_test_split(X, y, test_size=0.2, random_state=0)"
   ]
  },
  {
   "cell_type": "code",
   "execution_count": 258,
   "metadata": {},
   "outputs": [
    {
     "data": {
      "text/plain": [
       "LinearRegression(copy_X=True, fit_intercept=True, n_jobs=None, normalize=False)"
      ]
     },
     "execution_count": 258,
     "metadata": {},
     "output_type": "execute_result"
    }
   ],
   "source": [
    "regressor = LinearRegression()  \n",
    "regressor.fit(X_train, y_train) #training the algorithm"
   ]
  },
  {
   "cell_type": "code",
   "execution_count": 259,
   "metadata": {},
   "outputs": [
    {
     "name": "stdout",
     "output_type": "stream",
     "text": [
      "[9.26902205]\n",
      "[[0.07883896]]\n"
     ]
    }
   ],
   "source": [
    "#To retrieve the intercept:\n",
    "print(regressor.intercept_)\n",
    "#For retrieving the slope:\n",
    "print(regressor.coef_)"
   ]
  },
  {
   "cell_type": "code",
   "execution_count": 260,
   "metadata": {},
   "outputs": [],
   "source": [
    "y_pred = regressor.predict(X_test)"
   ]
  },
  {
   "cell_type": "code",
   "execution_count": 261,
   "metadata": {},
   "outputs": [
    {
     "data": {
      "text/html": [
       "<div>\n",
       "<style scoped>\n",
       "    .dataframe tbody tr th:only-of-type {\n",
       "        vertical-align: middle;\n",
       "    }\n",
       "\n",
       "    .dataframe tbody tr th {\n",
       "        vertical-align: top;\n",
       "    }\n",
       "\n",
       "    .dataframe thead th {\n",
       "        text-align: right;\n",
       "    }\n",
       "</style>\n",
       "<table border=\"1\" class=\"dataframe\">\n",
       "  <thead>\n",
       "    <tr style=\"text-align: right;\">\n",
       "      <th></th>\n",
       "      <th>Actual</th>\n",
       "      <th>Predicted</th>\n",
       "    </tr>\n",
       "  </thead>\n",
       "  <tbody>\n",
       "    <tr>\n",
       "      <th>0</th>\n",
       "      <td>9.903488</td>\n",
       "      <td>10.638523</td>\n",
       "    </tr>\n",
       "    <tr>\n",
       "      <th>1</th>\n",
       "      <td>11.050890</td>\n",
       "      <td>10.317950</td>\n",
       "    </tr>\n",
       "    <tr>\n",
       "      <th>2</th>\n",
       "      <td>10.308953</td>\n",
       "      <td>10.721289</td>\n",
       "    </tr>\n",
       "    <tr>\n",
       "      <th>3</th>\n",
       "      <td>11.561716</td>\n",
       "      <td>10.721289</td>\n",
       "    </tr>\n",
       "    <tr>\n",
       "      <th>4</th>\n",
       "      <td>11.225243</td>\n",
       "      <td>10.874703</td>\n",
       "    </tr>\n",
       "    <tr>\n",
       "      <th>...</th>\n",
       "      <td>...</td>\n",
       "      <td>...</td>\n",
       "    </tr>\n",
       "    <tr>\n",
       "      <th>1681</th>\n",
       "      <td>9.210340</td>\n",
       "      <td>10.666642</td>\n",
       "    </tr>\n",
       "    <tr>\n",
       "      <th>1682</th>\n",
       "      <td>8.517193</td>\n",
       "      <td>10.721289</td>\n",
       "    </tr>\n",
       "    <tr>\n",
       "      <th>1683</th>\n",
       "      <td>11.338572</td>\n",
       "      <td>10.775936</td>\n",
       "    </tr>\n",
       "    <tr>\n",
       "      <th>1684</th>\n",
       "      <td>12.031719</td>\n",
       "      <td>10.753256</td>\n",
       "    </tr>\n",
       "    <tr>\n",
       "      <th>1685</th>\n",
       "      <td>11.744037</td>\n",
       "      <td>10.775936</td>\n",
       "    </tr>\n",
       "  </tbody>\n",
       "</table>\n",
       "<p>1686 rows × 2 columns</p>\n",
       "</div>"
      ],
      "text/plain": [
       "         Actual  Predicted\n",
       "0      9.903488  10.638523\n",
       "1     11.050890  10.317950\n",
       "2     10.308953  10.721289\n",
       "3     11.561716  10.721289\n",
       "4     11.225243  10.874703\n",
       "...         ...        ...\n",
       "1681   9.210340  10.666642\n",
       "1682   8.517193  10.721289\n",
       "1683  11.338572  10.775936\n",
       "1684  12.031719  10.753256\n",
       "1685  11.744037  10.775936\n",
       "\n",
       "[1686 rows x 2 columns]"
      ]
     },
     "execution_count": 261,
     "metadata": {},
     "output_type": "execute_result"
    }
   ],
   "source": [
    "result = pd.DataFrame({'Actual': y_test.flatten(), 'Predicted': y_pred.flatten()})\n",
    "result"
   ]
  },
  {
   "cell_type": "code",
   "execution_count": 263,
   "metadata": {},
   "outputs": [
    {
     "data": {
      "image/png": "[encoded data removed]",
      "text/plain": [
       "<Figure size 1152x720 with 1 Axes>"
      ]
     },
     "metadata": {},
     "output_type": "display_data"
    }
   ],
   "source": [
    "df1 = result.head(25)\n",
    "df1.plot(kind='bar',figsize=(16,10))\n",
    "plt.grid(which='major', linestyle='-', linewidth='0.5', color='green')\n",
    "plt.grid(which='minor', linestyle=':', linewidth='0.5', color='black')\n",
    "plt.show()"
   ]
  },
  {
   "cell_type": "code",
   "execution_count": 266,
   "metadata": {},
   "outputs": [
    {
     "data": {
      "image/png": "[encoded data removed]",
      "text/plain": [
       "<Figure size 432x288 with 1 Axes>"
      ]
     },
     "metadata": {},
     "output_type": "display_data"
    }
   ],
   "source": [
    "plt.scatter(X_test, y_test,  color='gray')\n",
    "plt.plot(X_test, y_pred, color='red', linewidth=2)\n",
    "plt.show()"
   ]
  },
  {
   "cell_type": "code",
   "execution_count": 267,
   "metadata": {},
   "outputs": [
    {
     "name": "stdout",
     "output_type": "stream",
     "text": [
      "Mean Absolute Error: 0.8082205867654327\n",
      "Mean Squared Error: 1.1889401388360192\n",
      "Root Mean Squared Error: 1.090385316682144\n"
     ]
    }
   ],
   "source": [
    "print('Mean Absolute Error:', metrics.mean_absolute_error(y_test, y_pred))  \n",
    "print('Mean Squared Error:', metrics.mean_squared_error(y_test, y_pred))  \n",
    "print('Root Mean Squared Error:', np.sqrt(metrics.mean_squared_error(y_test, y_pred)))"
   ]
  },
  {
   "cell_type": "code",
   "execution_count": null,
   "metadata": {},
   "outputs": [],
   "source": []
  }
 ],
 "metadata": {
  "kernelspec": {
   "display_name": "Python 3",
   "language": "python",
   "name": "python3"
  },
  "language_info": {
   "codemirror_mode": {
    "name": "ipython",
    "version": 3
   },
   "file_extension": ".py",
   "mimetype": "text/x-python",
   "name": "python",
   "nbconvert_exporter": "python",
   "pygments_lexer": "ipython3",
   "version": "3.7.6"
  }
 },
 "nbformat": 4,
 "nbformat_minor": 4
}
